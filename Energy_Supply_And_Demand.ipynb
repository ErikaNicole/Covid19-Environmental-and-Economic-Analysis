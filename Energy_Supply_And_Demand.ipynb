{
 "cells": [
  {
   "cell_type": "markdown",
   "metadata": {},
   "source": [
    "# Energy Demand Analysis"
   ]
  },
  {
   "cell_type": "markdown",
   "metadata": {},
   "source": [
    "Electricity as part of energy demand is a useful analysis to look at in order to determine how Covid-19 has caused behaviour changes which have impacted the environment as well as the economy. Here, we look at how energy demand is distributed during the week, how this has changed post-Covid as well as changes to who consumers are. "
   ]
  },
  {
   "cell_type": "code",
   "execution_count": 1,
   "metadata": {},
   "outputs": [
    {
     "ename": "FileNotFoundError",
     "evalue": "[Errno 2] No such file or directory: '/Users/dehajasenanayake/Desktop/cfg_data.xlsx'",
     "output_type": "error",
     "traceback": [
      "\u001b[0;31m---------------------------------------------------------------------------\u001b[0m",
      "\u001b[0;31mFileNotFoundError\u001b[0m                         Traceback (most recent call last)",
      "\u001b[0;32m<ipython-input-1-8664fa008577>\u001b[0m in \u001b[0;36m<module>\u001b[0;34m\u001b[0m\n\u001b[1;32m      6\u001b[0m \u001b[0msys\u001b[0m\u001b[0;34m.\u001b[0m\u001b[0mpath\u001b[0m\u001b[0;34m.\u001b[0m\u001b[0minsert\u001b[0m\u001b[0;34m(\u001b[0m\u001b[0;36m0\u001b[0m\u001b[0;34m,\u001b[0m\u001b[0;34m'/Users/dehajasenanayake/Desktop'\u001b[0m\u001b[0;34m)\u001b[0m\u001b[0;34m\u001b[0m\u001b[0;34m\u001b[0m\u001b[0m\n\u001b[1;32m      7\u001b[0m \u001b[0;34m\u001b[0m\u001b[0m\n\u001b[0;32m----> 8\u001b[0;31m \u001b[0mdemand_full\u001b[0m \u001b[0;34m=\u001b[0m \u001b[0mpd\u001b[0m\u001b[0;34m.\u001b[0m\u001b[0mread_excel\u001b[0m\u001b[0;34m(\u001b[0m\u001b[0;34mr'/Users/dehajasenanayake/Desktop/cfg_data.xlsx'\u001b[0m\u001b[0;34m,\u001b[0m \u001b[0msheet_name\u001b[0m \u001b[0;34m=\u001b[0m \u001b[0;34m'demand_full'\u001b[0m\u001b[0;34m)\u001b[0m\u001b[0;34m\u001b[0m\u001b[0;34m\u001b[0m\u001b[0m\n\u001b[0m\u001b[1;32m      9\u001b[0m \u001b[0mdemand_daily\u001b[0m \u001b[0;34m=\u001b[0m \u001b[0mpd\u001b[0m\u001b[0;34m.\u001b[0m\u001b[0mread_excel\u001b[0m\u001b[0;34m(\u001b[0m\u001b[0;34mr'/Users/dehajasenanayake/Desktop/cfg_data.xlsx'\u001b[0m\u001b[0;34m,\u001b[0m \u001b[0msheet_name\u001b[0m \u001b[0;34m=\u001b[0m \u001b[0;34m'demand_daily'\u001b[0m\u001b[0;34m)\u001b[0m\u001b[0;34m\u001b[0m\u001b[0;34m\u001b[0m\u001b[0m\n",
      "\u001b[0;32m~/opt/anaconda3/lib/python3.8/site-packages/pandas/io/excel/_base.py\u001b[0m in \u001b[0;36mread_excel\u001b[0;34m(io, sheet_name, header, names, index_col, usecols, squeeze, dtype, engine, converters, true_values, false_values, skiprows, nrows, na_values, keep_default_na, verbose, parse_dates, date_parser, thousands, comment, skipfooter, convert_float, mangle_dupe_cols, **kwds)\u001b[0m\n\u001b[1;32m    302\u001b[0m \u001b[0;34m\u001b[0m\u001b[0m\n\u001b[1;32m    303\u001b[0m     \u001b[0;32mif\u001b[0m \u001b[0;32mnot\u001b[0m \u001b[0misinstance\u001b[0m\u001b[0;34m(\u001b[0m\u001b[0mio\u001b[0m\u001b[0;34m,\u001b[0m \u001b[0mExcelFile\u001b[0m\u001b[0;34m)\u001b[0m\u001b[0;34m:\u001b[0m\u001b[0;34m\u001b[0m\u001b[0;34m\u001b[0m\u001b[0m\n\u001b[0;32m--> 304\u001b[0;31m         \u001b[0mio\u001b[0m \u001b[0;34m=\u001b[0m \u001b[0mExcelFile\u001b[0m\u001b[0;34m(\u001b[0m\u001b[0mio\u001b[0m\u001b[0;34m,\u001b[0m \u001b[0mengine\u001b[0m\u001b[0;34m=\u001b[0m\u001b[0mengine\u001b[0m\u001b[0;34m)\u001b[0m\u001b[0;34m\u001b[0m\u001b[0;34m\u001b[0m\u001b[0m\n\u001b[0m\u001b[1;32m    305\u001b[0m     \u001b[0;32melif\u001b[0m \u001b[0mengine\u001b[0m \u001b[0;32mand\u001b[0m \u001b[0mengine\u001b[0m \u001b[0;34m!=\u001b[0m \u001b[0mio\u001b[0m\u001b[0;34m.\u001b[0m\u001b[0mengine\u001b[0m\u001b[0;34m:\u001b[0m\u001b[0;34m\u001b[0m\u001b[0;34m\u001b[0m\u001b[0m\n\u001b[1;32m    306\u001b[0m         raise ValueError(\n",
      "\u001b[0;32m~/opt/anaconda3/lib/python3.8/site-packages/pandas/io/excel/_base.py\u001b[0m in \u001b[0;36m__init__\u001b[0;34m(self, io, engine)\u001b[0m\n\u001b[1;32m    822\u001b[0m         \u001b[0mself\u001b[0m\u001b[0;34m.\u001b[0m\u001b[0m_io\u001b[0m \u001b[0;34m=\u001b[0m \u001b[0mstringify_path\u001b[0m\u001b[0;34m(\u001b[0m\u001b[0mio\u001b[0m\u001b[0;34m)\u001b[0m\u001b[0;34m\u001b[0m\u001b[0;34m\u001b[0m\u001b[0m\n\u001b[1;32m    823\u001b[0m \u001b[0;34m\u001b[0m\u001b[0m\n\u001b[0;32m--> 824\u001b[0;31m         \u001b[0mself\u001b[0m\u001b[0;34m.\u001b[0m\u001b[0m_reader\u001b[0m \u001b[0;34m=\u001b[0m \u001b[0mself\u001b[0m\u001b[0;34m.\u001b[0m\u001b[0m_engines\u001b[0m\u001b[0;34m[\u001b[0m\u001b[0mengine\u001b[0m\u001b[0;34m]\u001b[0m\u001b[0;34m(\u001b[0m\u001b[0mself\u001b[0m\u001b[0;34m.\u001b[0m\u001b[0m_io\u001b[0m\u001b[0;34m)\u001b[0m\u001b[0;34m\u001b[0m\u001b[0;34m\u001b[0m\u001b[0m\n\u001b[0m\u001b[1;32m    825\u001b[0m \u001b[0;34m\u001b[0m\u001b[0m\n\u001b[1;32m    826\u001b[0m     \u001b[0;32mdef\u001b[0m \u001b[0m__fspath__\u001b[0m\u001b[0;34m(\u001b[0m\u001b[0mself\u001b[0m\u001b[0;34m)\u001b[0m\u001b[0;34m:\u001b[0m\u001b[0;34m\u001b[0m\u001b[0;34m\u001b[0m\u001b[0m\n",
      "\u001b[0;32m~/opt/anaconda3/lib/python3.8/site-packages/pandas/io/excel/_xlrd.py\u001b[0m in \u001b[0;36m__init__\u001b[0;34m(self, filepath_or_buffer)\u001b[0m\n\u001b[1;32m     19\u001b[0m         \u001b[0merr_msg\u001b[0m \u001b[0;34m=\u001b[0m \u001b[0;34m\"Install xlrd >= 1.0.0 for Excel support\"\u001b[0m\u001b[0;34m\u001b[0m\u001b[0;34m\u001b[0m\u001b[0m\n\u001b[1;32m     20\u001b[0m         \u001b[0mimport_optional_dependency\u001b[0m\u001b[0;34m(\u001b[0m\u001b[0;34m\"xlrd\"\u001b[0m\u001b[0;34m,\u001b[0m \u001b[0mextra\u001b[0m\u001b[0;34m=\u001b[0m\u001b[0merr_msg\u001b[0m\u001b[0;34m)\u001b[0m\u001b[0;34m\u001b[0m\u001b[0;34m\u001b[0m\u001b[0m\n\u001b[0;32m---> 21\u001b[0;31m         \u001b[0msuper\u001b[0m\u001b[0;34m(\u001b[0m\u001b[0;34m)\u001b[0m\u001b[0;34m.\u001b[0m\u001b[0m__init__\u001b[0m\u001b[0;34m(\u001b[0m\u001b[0mfilepath_or_buffer\u001b[0m\u001b[0;34m)\u001b[0m\u001b[0;34m\u001b[0m\u001b[0;34m\u001b[0m\u001b[0m\n\u001b[0m\u001b[1;32m     22\u001b[0m \u001b[0;34m\u001b[0m\u001b[0m\n\u001b[1;32m     23\u001b[0m     \u001b[0;34m@\u001b[0m\u001b[0mproperty\u001b[0m\u001b[0;34m\u001b[0m\u001b[0;34m\u001b[0m\u001b[0m\n",
      "\u001b[0;32m~/opt/anaconda3/lib/python3.8/site-packages/pandas/io/excel/_base.py\u001b[0m in \u001b[0;36m__init__\u001b[0;34m(self, filepath_or_buffer)\u001b[0m\n\u001b[1;32m    351\u001b[0m             \u001b[0mself\u001b[0m\u001b[0;34m.\u001b[0m\u001b[0mbook\u001b[0m \u001b[0;34m=\u001b[0m \u001b[0mself\u001b[0m\u001b[0;34m.\u001b[0m\u001b[0mload_workbook\u001b[0m\u001b[0;34m(\u001b[0m\u001b[0mfilepath_or_buffer\u001b[0m\u001b[0;34m)\u001b[0m\u001b[0;34m\u001b[0m\u001b[0;34m\u001b[0m\u001b[0m\n\u001b[1;32m    352\u001b[0m         \u001b[0;32melif\u001b[0m \u001b[0misinstance\u001b[0m\u001b[0;34m(\u001b[0m\u001b[0mfilepath_or_buffer\u001b[0m\u001b[0;34m,\u001b[0m \u001b[0mstr\u001b[0m\u001b[0;34m)\u001b[0m\u001b[0;34m:\u001b[0m\u001b[0;34m\u001b[0m\u001b[0;34m\u001b[0m\u001b[0m\n\u001b[0;32m--> 353\u001b[0;31m             \u001b[0mself\u001b[0m\u001b[0;34m.\u001b[0m\u001b[0mbook\u001b[0m \u001b[0;34m=\u001b[0m \u001b[0mself\u001b[0m\u001b[0;34m.\u001b[0m\u001b[0mload_workbook\u001b[0m\u001b[0;34m(\u001b[0m\u001b[0mfilepath_or_buffer\u001b[0m\u001b[0;34m)\u001b[0m\u001b[0;34m\u001b[0m\u001b[0;34m\u001b[0m\u001b[0m\n\u001b[0m\u001b[1;32m    354\u001b[0m         \u001b[0;32melif\u001b[0m \u001b[0misinstance\u001b[0m\u001b[0;34m(\u001b[0m\u001b[0mfilepath_or_buffer\u001b[0m\u001b[0;34m,\u001b[0m \u001b[0mbytes\u001b[0m\u001b[0;34m)\u001b[0m\u001b[0;34m:\u001b[0m\u001b[0;34m\u001b[0m\u001b[0;34m\u001b[0m\u001b[0m\n\u001b[1;32m    355\u001b[0m             \u001b[0mself\u001b[0m\u001b[0;34m.\u001b[0m\u001b[0mbook\u001b[0m \u001b[0;34m=\u001b[0m \u001b[0mself\u001b[0m\u001b[0;34m.\u001b[0m\u001b[0mload_workbook\u001b[0m\u001b[0;34m(\u001b[0m\u001b[0mBytesIO\u001b[0m\u001b[0;34m(\u001b[0m\u001b[0mfilepath_or_buffer\u001b[0m\u001b[0;34m)\u001b[0m\u001b[0;34m)\u001b[0m\u001b[0;34m\u001b[0m\u001b[0;34m\u001b[0m\u001b[0m\n",
      "\u001b[0;32m~/opt/anaconda3/lib/python3.8/site-packages/pandas/io/excel/_xlrd.py\u001b[0m in \u001b[0;36mload_workbook\u001b[0;34m(self, filepath_or_buffer)\u001b[0m\n\u001b[1;32m     34\u001b[0m             \u001b[0;32mreturn\u001b[0m \u001b[0mopen_workbook\u001b[0m\u001b[0;34m(\u001b[0m\u001b[0mfile_contents\u001b[0m\u001b[0;34m=\u001b[0m\u001b[0mdata\u001b[0m\u001b[0;34m)\u001b[0m\u001b[0;34m\u001b[0m\u001b[0;34m\u001b[0m\u001b[0m\n\u001b[1;32m     35\u001b[0m         \u001b[0;32melse\u001b[0m\u001b[0;34m:\u001b[0m\u001b[0;34m\u001b[0m\u001b[0;34m\u001b[0m\u001b[0m\n\u001b[0;32m---> 36\u001b[0;31m             \u001b[0;32mreturn\u001b[0m \u001b[0mopen_workbook\u001b[0m\u001b[0;34m(\u001b[0m\u001b[0mfilepath_or_buffer\u001b[0m\u001b[0;34m)\u001b[0m\u001b[0;34m\u001b[0m\u001b[0;34m\u001b[0m\u001b[0m\n\u001b[0m\u001b[1;32m     37\u001b[0m \u001b[0;34m\u001b[0m\u001b[0m\n\u001b[1;32m     38\u001b[0m     \u001b[0;34m@\u001b[0m\u001b[0mproperty\u001b[0m\u001b[0;34m\u001b[0m\u001b[0;34m\u001b[0m\u001b[0m\n",
      "\u001b[0;32m~/opt/anaconda3/lib/python3.8/site-packages/xlrd/__init__.py\u001b[0m in \u001b[0;36mopen_workbook\u001b[0;34m(filename, logfile, verbosity, use_mmap, file_contents, encoding_override, formatting_info, on_demand, ragged_rows)\u001b[0m\n\u001b[1;32m    109\u001b[0m     \u001b[0;32melse\u001b[0m\u001b[0;34m:\u001b[0m\u001b[0;34m\u001b[0m\u001b[0;34m\u001b[0m\u001b[0m\n\u001b[1;32m    110\u001b[0m         \u001b[0mfilename\u001b[0m \u001b[0;34m=\u001b[0m \u001b[0mos\u001b[0m\u001b[0;34m.\u001b[0m\u001b[0mpath\u001b[0m\u001b[0;34m.\u001b[0m\u001b[0mexpanduser\u001b[0m\u001b[0;34m(\u001b[0m\u001b[0mfilename\u001b[0m\u001b[0;34m)\u001b[0m\u001b[0;34m\u001b[0m\u001b[0;34m\u001b[0m\u001b[0m\n\u001b[0;32m--> 111\u001b[0;31m         \u001b[0;32mwith\u001b[0m \u001b[0mopen\u001b[0m\u001b[0;34m(\u001b[0m\u001b[0mfilename\u001b[0m\u001b[0;34m,\u001b[0m \u001b[0;34m\"rb\"\u001b[0m\u001b[0;34m)\u001b[0m \u001b[0;32mas\u001b[0m \u001b[0mf\u001b[0m\u001b[0;34m:\u001b[0m\u001b[0;34m\u001b[0m\u001b[0;34m\u001b[0m\u001b[0m\n\u001b[0m\u001b[1;32m    112\u001b[0m             \u001b[0mpeek\u001b[0m \u001b[0;34m=\u001b[0m \u001b[0mf\u001b[0m\u001b[0;34m.\u001b[0m\u001b[0mread\u001b[0m\u001b[0;34m(\u001b[0m\u001b[0mpeeksz\u001b[0m\u001b[0;34m)\u001b[0m\u001b[0;34m\u001b[0m\u001b[0;34m\u001b[0m\u001b[0m\n\u001b[1;32m    113\u001b[0m     \u001b[0;32mif\u001b[0m \u001b[0mpeek\u001b[0m \u001b[0;34m==\u001b[0m \u001b[0;34mb\"PK\\x03\\x04\"\u001b[0m\u001b[0;34m:\u001b[0m \u001b[0;31m# a ZIP file\u001b[0m\u001b[0;34m\u001b[0m\u001b[0;34m\u001b[0m\u001b[0m\n",
      "\u001b[0;31mFileNotFoundError\u001b[0m: [Errno 2] No such file or directory: '/Users/dehajasenanayake/Desktop/cfg_data.xlsx'"
     ]
    }
   ],
   "source": [
    "import pandas as pd\n",
    "import numpy as np\n",
    "import matplotlib.pyplot as plt\n",
    "import sys\n",
    "import os\n",
    "sys.path.insert(0,'/Users/dehajasenanayake/Desktop')\n",
    "\n",
    "demand_full = pd.read_excel(r'/Users/dehajasenanayake/Desktop/cfg_data.xlsx', sheet_name = 'demand_full')\n",
    "demand_daily = pd.read_excel(r'/Users/dehajasenanayake/Desktop/cfg_data.xlsx', sheet_name = 'demand_daily')"
   ]
  },
  {
   "cell_type": "markdown",
   "metadata": {},
   "source": [
    "#### Rolling System Demand"
   ]
  },
  {
   "cell_type": "markdown",
   "metadata": {},
   "source": [
    "Here, we consider the effect of the lockdown on Rolling System Demand for electricity in the UK. The data comes from BMReports, which records daily Rolling System Demand for the UK. "
   ]
  },
  {
   "cell_type": "code",
   "execution_count": null,
   "metadata": {},
   "outputs": [],
   "source": [
    "plt.plot(demand_full['Date'],demand_full['Demand'],label='Full System Demand')\n",
    "plt.plot(demand_daily['Date'],demand_daily['avdemand'],label='Average Daily Demand')\n",
    "\n",
    "plt.xlabel('Date')\n",
    "plt.ylabel('Rolling Demand')\n",
    "plt.title('Electricity Demand from consumers in the UK')\n",
    "plt.legend()"
   ]
  },
  {
   "cell_type": "markdown",
   "metadata": {},
   "source": [
    "Average daily demand has decreased since before lockdown, with the range of demand also decreasing during the day as represented by the Full System Demand in blue. This indicates smaller peaks in demand during the day. Total demand has increased slightly since March, although average demand has not returned to pre-Covid levels, rather appears to hover around a new mean."
   ]
  },
  {
   "cell_type": "markdown",
   "metadata": {},
   "source": [
    "#### The Stringency Index versus UK Electricity Demand"
   ]
  },
  {
   "cell_type": "markdown",
   "metadata": {},
   "source": [
    "We now consider the Stringency Index versus Rolling System Demand in the UK. The Stringency Index measures the severity of lockdown. "
   ]
  },
  {
   "cell_type": "code",
   "execution_count": null,
   "metadata": {},
   "outputs": [],
   "source": [
    "fig, ax1 = plt.subplots()\n",
    "ax1.plot(demand_daily['Date'],demand_daily['avdemand'],c='purple')\n",
    "ax1.set_ylabel('Rolling Demand (MW)',c='purple')\n",
    "\n",
    "ax2 = ax1.twinx()\n",
    "\n",
    "stringency_dataset = pd.read_excel(r'/Users/dehajasenanayake/Desktop/stringency_dataset.xlsx', sheet_name='index_stringency')\n",
    "ax2.plot(stringency_dataset['Date'], stringency_dataset['Index'],c='blue')\n",
    "ax2.set_ylabel('Stringency Index (0-100)',c='blue')\n",
    "\n",
    "fig.tight_layout()\n",
    "plt.title('Rolling System Demand in the UK vs Stringency Index for the UK')\n",
    "plt.show()"
   ]
  },
  {
   "cell_type": "markdown",
   "metadata": {},
   "source": [
    "As can be seen in the graph above, the effect of lockdown on total energy demand was an immediate reduction from previous levels. Since March 23rd (date of full lockdown) there has been a gradual increase in energy demand nationally however it has not reached pre-Covid levels. This is likely because many businesses are not able to operate or are operating at a reduced capacity. "
   ]
  },
  {
   "cell_type": "markdown",
   "metadata": {},
   "source": [
    "### A Deeper look at Demand "
   ]
  },
  {
   "cell_type": "markdown",
   "metadata": {},
   "source": [
    "#### Who is consuming energy? "
   ]
  },
  {
   "cell_type": "code",
   "execution_count": null,
   "metadata": {},
   "outputs": [],
   "source": [
    "av_consumption = pd.read_excel(r'/Users/dehajasenanayake/Desktop/CFG1.xls', sheet_name = 'Month')\n",
    "plt.figure(figsize=(9,4))\n",
    "plt.plot(av_consumption['Month'][0:6],av_consumption['Total'][0:6], label='Total 2019',color='b',ls='--')\n",
    "plt.plot(av_consumption['Month'][0:6],av_consumption['Industrial'][0:6], label='Industrial 2019',color='r',ls='--')\n",
    "plt.plot(av_consumption['Month'][0:6],av_consumption['Domestic'][0:6], label='Domestic 2019',color='g',ls='--')\n",
    "plt.plot(av_consumption['Month'][0:6],av_consumption['Other'][0:6], label='Other 2019',color='y',ls='--')\n",
    "\n",
    "plt.plot(av_consumption['Month'][12:18],av_consumption['Total'][12:18], label='Total 2020',color='b')\n",
    "plt.plot(av_consumption['Month'][12:18],av_consumption['Industrial'][12:18], label='Industrial 2020',color='r')\n",
    "plt.plot(av_consumption['Month'][12:18],av_consumption['Domestic'][12:18], label='Domestic 2020',color='g')\n",
    "plt.plot(av_consumption['Month'][12:18],av_consumption['Other'][12:18], label='Other 2020',color='y')\n",
    "\n",
    "plt.xlabel('Month')\n",
    "plt.ylabel('Sales of electricity, TWh')\n",
    "plt.title('Consumption of electricity by consumers in the UK')\n",
    "plt.legend()"
   ]
  },
  {
   "cell_type": "markdown",
   "metadata": {},
   "source": [
    "There has been a decrease in Industrial and Other electricity demand however that for Domestic consumption has remained somewhat constant. "
   ]
  },
  {
   "cell_type": "markdown",
   "metadata": {},
   "source": [
    "#### When is demand occurring? "
   ]
  },
  {
   "cell_type": "markdown",
   "metadata": {},
   "source": [
    "Not only has demand decreased in total, patterns of demand have also changed. In order to see this we have mapped demand over the week for different weeks during 2020. "
   ]
  },
  {
   "cell_type": "code",
   "execution_count": null,
   "metadata": {},
   "outputs": [],
   "source": [
    "demand_hour = pd.read_excel(r'/Users/dehajasenanayake/Desktop/cfg_data.xlsx', sheet_name = 'demand_hour')\n",
    "# x = March_Data[1:2].values[0][5:].tolist()\n",
    "#     x_dt = [datetime.datetime.combine(Date[day_chosen], t) for t in x]\n",
    "x = md.DateFormatter('%Y-%m-%d')\n",
    "ax = plt.gca()\n",
    "ax.xaxis.set_major_formatter(x)\n",
    "\n",
    "plt.plot(demand_hour[''])"
   ]
  },
  {
   "cell_type": "markdown",
   "metadata": {},
   "source": [
    "# Energy Supply Analysis"
   ]
  },
  {
   "cell_type": "markdown",
   "metadata": {},
   "source": [
    "How is the supply of energy made up? And how has this changed since Covid-19 and lockdown. In determining the effect of Covid-19 on the environment, the supply of energy is an important factor to consider. Emissions from electricity generation were _________."
   ]
  },
  {
   "cell_type": "markdown",
   "metadata": {},
   "source": [
    "#### Changes in Fuel 2019 - 2020"
   ]
  },
  {
   "cell_type": "code",
   "execution_count": null,
   "metadata": {},
   "outputs": [],
   "source": [
    "fueltype_data = pd.read_excel(r'/Users/dehajasenanayake/Desktop/cfg_data.xlsx', sheet_name = 'fuel_type')\n",
    "\n",
    "plt.figure(figsize=(9,9))\n",
    "plt.plot(fueltype_data['Month'][0:6],fueltype_data['Total'][0:6], label='Total 2019',color='blue')\n",
    "plt.plot(fueltype_data['Month'][0:6],fueltype_data['Coal'][0:6], label='Coal 2019',color='red')\n",
    "plt.plot(fueltype_data['Month'][0:6],fueltype_data['Oil'][0:6], label='Oil 2019',color='brown')\n",
    "plt.plot(fueltype_data['Month'][0:6],fueltype_data['Gas'][0:6], label='Gas 2019',color='grey')\n",
    "plt.plot(fueltype_data['Month'][0:6],fueltype_data['Nuclear'][0:6], label='Nuclear 2019',color='orange')\n",
    "plt.plot(fueltype_data['Month'][0:6],fueltype_data['Renewables'][0:6], label='Renewables 2019',color='green')\n",
    "\n",
    "plt.plot(fueltype_data['Month'][12:18],fueltype_data['Total'][12:18], label='Total 2020',ls='--',color='blue')\n",
    "plt.plot(fueltype_data['Month'][12:18],fueltype_data['Coal'][12:18], label='Coal 2020',ls='--',color='red')\n",
    "plt.plot(fueltype_data['Month'][12:18],fueltype_data['Oil'][12:18], label='Oil 2020',ls='--',color='brown')\n",
    "plt.plot(fueltype_data['Month'][12:18],fueltype_data['Gas'][12:18], label='Gas 2020',ls='--',color='grey')\n",
    "plt.plot(fueltype_data['Month'][12:18],fueltype_data['Nuclear'][12:18], label='Nuclear 2020',ls='--',color='orange')\n",
    "plt.plot(fueltype_data['Month'][12:18],fueltype_data['Renewables'][12:18], label='Renewables 2020',ls='--',color='green')\n",
    "\n",
    "\n",
    "plt.xlabel('Month')\n",
    "plt.ylabel('Fuel used in electricity generation')\n",
    "plt.title('Generation of electricity by major producers in the UK')\n",
    "plt.legend()"
   ]
  },
  {
   "cell_type": "markdown",
   "metadata": {},
   "source": [
    "While total energy supply decreased, the supply from renewables increased in the months after lockdown, (April to June) compared to other fuels, where all other fuels saw a decrease in their use. "
   ]
  },
  {
   "cell_type": "markdown",
   "metadata": {},
   "source": [
    "### The Stringency Index versus Energy Supply "
   ]
  },
  {
   "cell_type": "code",
   "execution_count": null,
   "metadata": {},
   "outputs": [],
   "source": [
    "fig, ax1 = plt.subplots()\n",
    "\n",
    "ax1.plot(fueltype_data['Date'],fueltype_data['Total'], label='Total',color='blue')\n",
    "ax1.plot(fueltype_data['Date'],fueltype_data['Coal'], label='Coal',color='red')\n",
    "ax1.plot(fueltype_data['Date'],fueltype_data['Oil'], label='Oil',color='brown')\n",
    "ax1.plot(fueltype_data['Date'],fueltype_data['Gas'], label='Gas',color='grey')\n",
    "ax1.plot(fueltype_data['Date'],fueltype_data['Nuclear'], label='Nuclear',color='orange')\n",
    "ax1.plot(fueltype_data['Date'],fueltype_data['Renewables'], label='Renewables',color='green')\n",
    "\n",
    "ax1.set_ylabel('Fuel type used in electricity \\ngeneration in the UK (TWh)')\n",
    "ax1.legend()\n",
    "\n",
    "ax2 = ax1.twinx()\n",
    "\n",
    "stringency_dataset = pd.read_excel(r'/Users/dehajasenanayake/Desktop/stringency_dataset.xlsx', sheet_name='index_stringency')\n",
    "ax2.plot(stringency_dataset['Date'][0:183], stringency_dataset['Index'][0:183], label='Date', color='black')\n",
    "ax2.set_ylabel('UK Stringency Index (0-100)')\n",
    "\n",
    "fig.tight_layout()\n",
    "plt.title('Fuel type used in electricity generation in the UK \\nvs Stringency Index for the UK')\n",
    "plt.show()"
   ]
  },
  {
   "cell_type": "markdown",
   "metadata": {},
   "source": [
    "Here, we have looked at a longer trend of electricity generation in the UK, in terms of the fuels used and the effect of lockdown on the mix of fuels compared to previous trends. There was a fall in total electricity demand which coincides with a fall in electricity demand as the weather becomes warmer, although there appears to be a greater fall in demand compared to the previous year, 2019. In order to try to determine the effect of the lockdown more closely on the mix of fuels, we have looked at the changes in fuel types between 2018 - 2019 and 2019 - 2020 (below). "
   ]
  },
  {
   "cell_type": "markdown",
   "metadata": {},
   "source": [
    "### Change in Fuel Mix 2019 - 2020 "
   ]
  },
  {
   "cell_type": "markdown",
   "metadata": {},
   "source": [
    "#### Plot Change in Fuel Mix (2019 - 2020)"
   ]
  },
  {
   "cell_type": "code",
   "execution_count": null,
   "metadata": {},
   "outputs": [],
   "source": [
    "percentage_change = pd.read_excel(r'/Users/dehajasenanayake/Desktop/cfg_data.xlsx', sheet_name = 'percentage_change')\n",
    "\n",
    "labels = ['Jan','Feb','March','April','May','June']\n",
    "fig, ax = plt.subplots()\n",
    "\n",
    "Coal = []\n",
    "Oil = []\n",
    "Gas = []\n",
    "Nuclear = []\n",
    "Renewables = []\n",
    "\n",
    "Coal = percentage_change['Coal'].tolist() \n",
    "Oil = percentage_change['Oil'].tolist() \n",
    "Gas = percentage_change['Gas'].tolist() \n",
    "Nuclear = percentage_change['Nuclear'].tolist() \n",
    "Renewables = percentage_change['Renewables'].tolist() \n",
    "\n",
    "plt.figure(figsize=(18,12))\n",
    "x = np.arange(len(labels))\n",
    "width = 0.35\n",
    "rects1 = ax.bar(x-width*2, Coal, width, label='Coal')\n",
    "rects2 = ax.bar(x-width, Oil, width, label='Oil')\n",
    "rects3 = ax.bar(x, Gas, width, label='Gas')\n",
    "rects4 = ax.bar(x+width, Nuclear, width, label='Nuclear')\n",
    "rects5 = ax.bar(x+width*2, Renewables, width, label='Renewables')\n",
    "\n",
    "ax.set_ylabel('Percentage change in Fuel use')\n",
    "ax.set_title('Percentage change in Fuel use between 2019 and 2020')\n",
    "ax.set_xticks(x)\n",
    "ax.set_xticklabels(labels)\n",
    "ax.legend()\n",
    "\n",
    "def autolabel(rects):\n",
    "    \"\"\"Attach a text label above each bar in *rects*, displaying its height.\"\"\"\n",
    "    for rect in rects:\n",
    "        height = rect.get_height()\n",
    "        ax.annotate('{}'.format(height),\n",
    "                    xy=(rect.get_x() + rect.get_width() / 2, height),\n",
    "                    xytext=(0, 3),  # 3 points vertical offset\n",
    "                    textcoords=\"offset points\",\n",
    "                    ha='center', va='bottom')\n",
    "\n",
    "autolabel(rects1)\n",
    "autolabel(rects2)\n",
    "autolabel(rects3)\n",
    "autolabel(rects4)\n",
    "autolabel(rects5)\n",
    "\n",
    "fig.tight_layout()\n",
    "plt.show()"
   ]
  },
  {
   "cell_type": "markdown",
   "metadata": {},
   "source": [
    "#### Plot Change in Fuel Mix (2018 - 2019)"
   ]
  },
  {
   "cell_type": "code",
   "execution_count": null,
   "metadata": {},
   "outputs": [],
   "source": [
    "percentage_change2 = pd.read_excel(r'/Users/dehajasenanayake/Desktop/cfg_data.xlsx', sheet_name = 'percentage_change2')\n",
    "\n",
    "labels = ['Jan','Feb','March','April','May','June']\n",
    "fig, ax = plt.subplots()\n",
    "\n",
    "Coal = []\n",
    "Oil = []\n",
    "Gas = []\n",
    "Nuclear = []\n",
    "Renewables = []\n",
    "\n",
    "Coal = percentage_change2['Coal'].tolist() \n",
    "Oil = percentage_change2['Oil'].tolist() \n",
    "Gas = percentage_change2['Gas'].tolist() \n",
    "Nuclear = percentage_change2['Nuclear'].tolist() \n",
    "Renewables = percentage_change2['Renewables'].tolist() \n",
    "\n",
    "plt.figure(figsize=(18,12))\n",
    "x = np.arange(len(labels))\n",
    "width = 0.35\n",
    "rects1 = ax.bar(x-width*2, Coal, width, label='Coal')\n",
    "rects2 = ax.bar(x-width, Oil, width, label='Oil')\n",
    "rects3 = ax.bar(x, Gas, width, label='Gas')\n",
    "rects4 = ax.bar(x+width, Nuclear, width, label='Nuclear')\n",
    "rects5 = ax.bar(x+width*2, Renewables, width, label='Renewables')\n",
    "\n",
    "ax.set_ylabel('Percentage change in Fuel use')\n",
    "ax.set_title('Percentage change in Fuel use between 2018 and 2019')\n",
    "ax.set_xticks(x)\n",
    "ax.set_xticklabels(labels)\n",
    "ax.legend()\n",
    "\n",
    "def autolabel(rects):\n",
    "    \"\"\"Attach a text label above each bar in *rects*, displaying its height.\"\"\"\n",
    "    for rect in rects:\n",
    "        height = rect.get_height()\n",
    "        ax.annotate('{}'.format(height),\n",
    "                    xy=(rect.get_x() + rect.get_width() / 2, height),\n",
    "                    xytext=(0, 3),  # 3 points vertical offset\n",
    "                    textcoords=\"offset points\",\n",
    "                    ha='center', va='bottom')\n",
    "\n",
    "autolabel(rects1)\n",
    "autolabel(rects2)\n",
    "autolabel(rects3)\n",
    "autolabel(rects4)\n",
    "autolabel(rects5)\n",
    "\n",
    "fig.tight_layout()\n",
    "plt.show()"
   ]
  },
  {
   "cell_type": "code",
   "execution_count": null,
   "metadata": {},
   "outputs": [],
   "source": []
  },
  {
   "cell_type": "markdown",
   "metadata": {},
   "source": [
    "### Total Electricity Generation and associated CO2 Emissions "
   ]
  },
  {
   "cell_type": "markdown",
   "metadata": {},
   "source": [
    "The environmental impact of electricity generation is determined by the mix of fuels used. Using conversion factors from the UK Government the total kgCO2 was calculated for the first half of 2019 and 2020. "
   ]
  },
  {
   "cell_type": "markdown",
   "metadata": {},
   "source": [
    "#### Plot Electricity Generation and CO2 Emissions "
   ]
  },
  {
   "cell_type": "code",
   "execution_count": null,
   "metadata": {},
   "outputs": [],
   "source": [
    "plt.figure(figsize=(18,12))\n",
    "fig, ax1 = plt.subplots()\n",
    "carbon = pd.read_excel(r'/Users/dehajasenanayake/Desktop/cfg_data.xlsx', sheet_name = 'carbon')\n",
    "\n",
    "ax1.plot(carbon['Month'][0:6],carbon['total_energy'][0:6], label='2019',ls='--',color='purple')\n",
    "ax1.plot(carbon['Month'][12:18],carbon['total_energy'][12:18], label='2020',color='purple')\n",
    "ax1.legend()\n",
    "ax1.set_ylabel('Total Electricity Supply (KWh)',color='purple')\n",
    "\n",
    "ax2 = ax1.twinx()\n",
    "\n",
    "ax2.plot(carbon['Month'][0:6],carbon['total_co2'][0:6], label='2019',ls='--', color='green')\n",
    "ax2.plot(carbon['Month'][12:18],carbon['total_co2'][12:18], label='2020',color='green')\n",
    "ax2.set_ylabel('Total CO2 Emissions (KgCO2)',color='green')\n",
    "\n",
    "fig.tight_layout()\n",
    "plt.title('Total Electricity Generation and associated CO2 Emissions for the UK')\n",
    "plt.legend()\n",
    "plt.show()"
   ]
  },
  {
   "cell_type": "markdown",
   "metadata": {},
   "source": [
    "The effect of lockdown, as we have seen previously has decreased total electricity generation. The fall in supply was greater compared to 2019 between February and April, and supply has remained lower for months following. In comparison, the Total CO2 Emissions from electricty supply also fell by a similar degree however appears to increase between May and June, compared to supply which appears to show a continued trend from the previous three months (April - June). For eighteen days in April the grid ran without any coal, for reasons including good weather as well as lower demand, which could be the reason for the uptick in Total CO2 emissions between May and June (2020). "
   ]
  },
  {
   "cell_type": "markdown",
   "metadata": {},
   "source": [
    "## How do we ensure that we come out of Lockdown in the most sustainable way when looking at Energy? "
   ]
  },
  {
   "cell_type": "markdown",
   "metadata": {},
   "source": [
    "The effect of lockdown, we have seen is a fall in demand for energy nationally, as well as a different pattern of demand during the day. On supply, the mix of energy has changed, with renewables and coal showing an increase on the previous year, for the first six months of 2020. \n",
    "\n",
    "The effect of lockdown on energy demand is that overall demand has fallen has fallen, due to businesses being closed or operating at limited capacity (where we have seen that industrial demand in particular has fallen). Domestic demand remains more constant, but the changes in timing of demand during the day, where the peaks are less than before lockdown which indicates a smoother daily demand 'curve'. This could help with managing renewable sources in the grid, where smaller peaks mean renewables are more able to manage demand and backups are required less when they are unable to meet demand. Working from home could be an explanation for the lower peaks, and encouraging this can help keep demand more 'constant'. However, as weather is one of the main factors in energy demand, it would be necessary to continue tracking energy demand during the Winter. One way the government is trying to reduce this demand is through their 'Green Homes Grant' scheme (https://www.iisd.org/sustainable-recovery/news/green-recovery-stimulus-for-uks-housing-sector/), in providing vouchers for the public to make their homes more energy efficient, where homes in the UK are noto energy efficient (https://www.bbc.co.uk/news/uk-50573338). The effectiveness of this scheme compared to people returning to offices will need to be established.\n",
    "\n",
    "Emissions from energy have been falling throughout the previous 30 years, and this trend must continue if the UK is to meet it's Carbon targets and net-zero by 2050. What lockdown has shown is that with a lower energy demand (and good weather), the grid is able to manage a greater share of renewables in the electricity mix meaning lower associated emissions from supply. Continuing to increase the capacity of renewables in energy will lower the associated emissions from electricity generation. This will allow a greater ability to meet the targets, where the UK remains off-track to meet its' target this year, despite a record-breaking year, of eighteen consecutive days without coal. The government currently supports Offshore wind and provides funding for low-carbon technologies. Compared to other countries, the Green Recovery package has been small with £350 million committed (https://www.gov.uk/government/news/pm-commits-350-million-to-fuel-green-recovery), compared to €40 billion (https://www.businessgreen.com/news/4016109/green-recovery-germany-unveils-plans-eur40bn-climate-spending-surge)and €30 billion (https://www.theguardian.com/world/2020/sep/03/france-launches-big-green-recovery-plan-part-100bn-stimulus-covid)(£37 billion and £27 billion) for Germany and France respectively. Ensuring a greater commitment of funding to these projects will spur a Green post-Covid recovery. \n"
   ]
  },
  {
   "cell_type": "code",
   "execution_count": null,
   "metadata": {},
   "outputs": [],
   "source": []
  }
 ],
 "metadata": {
  "kernelspec": {
   "display_name": "Python 3",
   "language": "python",
   "name": "python3"
  },
  "language_info": {
   "codemirror_mode": {
    "name": "ipython",
    "version": 3
   },
   "file_extension": ".py",
   "mimetype": "text/x-python",
   "name": "python",
   "nbconvert_exporter": "python",
   "pygments_lexer": "ipython3",
   "version": "3.8.3"
  }
 },
 "nbformat": 4,
 "nbformat_minor": 4
}
